{
  "cells": [
    {
      "cell_type": "markdown",
      "metadata": {
        "id": "view-in-github",
        "colab_type": "text"
      },
      "source": [
        "<a href=\"https://colab.research.google.com/github/Programmercloud-cmd/RocketInvasion/blob/main/6_pandas.ipynb\" target=\"_parent\"><img src=\"https://colab.research.google.com/assets/colab-badge.svg\" alt=\"Open In Colab\"/></a>"
      ]
    },
    {
      "cell_type": "markdown",
      "id": "413d1b60",
      "metadata": {
        "pycharm": {
          "name": "#%% md\n"
        },
        "id": "413d1b60"
      },
      "source": [
        "Fill in your github username and idm credentials below:"
      ]
    },
    {
      "cell_type": "code",
      "execution_count": 243,
      "id": "48e0b2dc",
      "metadata": {
        "pycharm": {
          "is_executing": true,
          "name": "#%%\n"
        },
        "vscode": {
          "languageId": "python"
        },
        "id": "48e0b2dc"
      },
      "outputs": [],
      "source": [
        "github_username = \"Programmercloud-cmd\"\n",
        "idm_credentials = \"to10fape\""
      ]
    },
    {
      "cell_type": "markdown",
      "id": "61d26279",
      "metadata": {
        "pycharm": {
          "name": "#%% md\n"
        },
        "id": "61d26279"
      },
      "source": [
        "---"
      ]
    },
    {
      "cell_type": "markdown",
      "id": "755c6140-79ab-496f-9e79-71972edca5bc",
      "metadata": {
        "pycharm": {
          "name": "#%% md\n"
        },
        "id": "755c6140-79ab-496f-9e79-71972edca5bc"
      },
      "source": [
        "# **Applied Data Science in Medicine & Psychology - Assignment 6**\n",
        "## Pandas\n",
        "---\n",
        "**Deadline: 18.06.2024, 23:59**\n",
        "### **General Setup and Submission**\n",
        "1. Save an editable copy of this notebook to your Google Drive ``File`` $\\rightarrow$ ``Save a copy in Drive`` and remove the automatically appended \"Copy of\" text. **Do not change the original file name**.\n",
        "2. Work on the assignment in the *copied* version of the notebook. Make sure that you **replace** all parts of the tasks indicated with *YOUR CODE HERE* and **raise NotImplementedError()** (otherwise this causes an error in your implementation) or *YOUR ANSWER HERE* with your solution.\n",
        "3. If you take a break during the implementation, you can save the current status of your work in your repository following the submission instructions below. When you continue working on the assignment, do this in the version of the notebook that you saved in your Google Drive (access from your Google Colab account) or your repository.\n",
        "4. After finishing the assignment submit your assignment as follows:\n",
        "    * Check that everything runs as expected. To do that select in the menubar ``Runtime`` $\\rightarrow$ ``Restart and run all``. This will clear all your local variables and runs your notebook from the beginning.\n",
        "    * Save your notebook, click ``File`` $\\rightarrow$ ``Save``\n",
        "    * Click ``File`` $\\rightarrow$ ``Save a copy in GitHub``\n",
        "    * Select ``digikolleg-data-science-psychology/6-pandas-<username>`` from the repository drop-down menu\n",
        "    * Type ``6_pandas.ipynb`` into the file path text box\n",
        "    * Optionally, you may enter a description into the \"Commit message\" text box (like: \"solved task 1\" or \"ready for grading\")\n",
        "    * Make sure that the \"Include a link to Colaboratory\" box is checked\n",
        "    * Press \"Ok\"\n",
        "    * A new tab or window should open up, displaying your submitted notebook within your GitHub repository\n",
        "\n",
        "Before the assignment deadline, you can re-submit your assignment as often as you would like. This will update your assignment file in your assignment's repository."
      ]
    },
    {
      "cell_type": "markdown",
      "id": "2fe61c2c-a030-4c02-8214-7db7d1c10df5",
      "metadata": {
        "id": "2fe61c2c-a030-4c02-8214-7db7d1c10df5"
      },
      "source": [
        "### **Assignment Description**\n",
        "In this assignment, we take a first glance at the ``Pandas`` package. ``Pandas`` is a powerful Python library that provides easy-to-use data structures and data analysis tools, allowing users to efficiently manipulate, analyze, and visualize data, making complex data operations simple and intuitive.\n",
        "\n",
        "#### **Assignment Goals**\n",
        "You are going to learn the following things in this assignment:\n",
        "1. how to create data frames from dictionaries and arrays\n",
        "2. how to apply operations to data frames\n",
        "3. how to add and remove rows/columns\n",
        "4. how to index data in data frames (based on conditions)\n",
        "5. how to create a multi-index data frame\n",
        "6. how to transform a data frame from wide to long format\n",
        "7. how to group data in a data frame\n",
        "\n",
        "#### **Assignment Point Value**\n",
        "This assignment is worth a total (up to) **12** points. If your code passes all of the manual and automatic tests you will receive full credit."
      ]
    },
    {
      "cell_type": "markdown",
      "id": "89d2a637-e274-43a8-a88a-23bb204e96db",
      "metadata": {
        "id": "89d2a637-e274-43a8-a88a-23bb204e96db"
      },
      "source": [
        "### **Tasks**\n",
        "Make sure that you now work on your *copied* version of this assignment's notebook."
      ]
    },
    {
      "cell_type": "markdown",
      "id": "42e90337-1130-4412-b037-d1267bc45101",
      "metadata": {
        "id": "42e90337-1130-4412-b037-d1267bc45101"
      },
      "source": [
        "#### 0. Imports and Setup\n",
        "Please **run** the cell below to import the libraries needed for this assignment."
      ]
    },
    {
      "cell_type": "code",
      "execution_count": 244,
      "id": "23f1cef0-5d30-4548-b6b6-4020b3013f8c",
      "metadata": {
        "tags": [],
        "id": "23f1cef0-5d30-4548-b6b6-4020b3013f8c",
        "colab": {
          "base_uri": "https://localhost:8080/"
        },
        "outputId": "f6222859-8288-4cb2-cc8a-5fa9662fa92a"
      },
      "outputs": [
        {
          "output_type": "stream",
          "name": "stdout",
          "text": [
            "Requirement already satisfied: biopsykit in /usr/local/lib/python3.10/dist-packages (0.10.0)\n",
            "Requirement already satisfied: XlsxWriter<2,>=1 in /usr/local/lib/python3.10/dist-packages (from biopsykit) (1.4.5)\n",
            "Requirement already satisfied: bioread<4,>=3 in /usr/local/lib/python3.10/dist-packages (from biopsykit) (3.0.1)\n",
            "Requirement already satisfied: fau-colors<2.0,>=1.1 in /usr/local/lib/python3.10/dist-packages (from biopsykit) (1.7.0)\n",
            "Requirement already satisfied: joblib<2,>=1 in /usr/local/lib/python3.10/dist-packages (from biopsykit) (1.4.2)\n",
            "Requirement already satisfied: matplotlib<4.0,>=3.4 in /usr/local/lib/python3.10/dist-packages (from biopsykit) (3.7.1)\n",
            "Requirement already satisfied: neurokit2<1,>=0 in /usr/local/lib/python3.10/dist-packages (from biopsykit) (0.2.9)\n",
            "Requirement already satisfied: nilspodlib>=3.4.1 in /usr/local/lib/python3.10/dist-packages (from biopsykit) (3.6.0)\n",
            "Requirement already satisfied: numpy<2,>=1 in /usr/local/lib/python3.10/dist-packages (from biopsykit) (1.25.2)\n",
            "Requirement already satisfied: openpyxl<4,>=3 in /usr/local/lib/python3.10/dist-packages (from biopsykit) (3.1.3)\n",
            "Requirement already satisfied: pandas<2,>=1 in /usr/local/lib/python3.10/dist-packages (from biopsykit) (1.5.3)\n",
            "Requirement already satisfied: pingouin<0.6.0,>=0.5.2 in /usr/local/lib/python3.10/dist-packages (from biopsykit) (0.5.4)\n",
            "Requirement already satisfied: scikit-learn<2.0,>=1.0 in /usr/local/lib/python3.10/dist-packages (from biopsykit) (1.2.2)\n",
            "Requirement already satisfied: scipy<2,>=1 in /usr/local/lib/python3.10/dist-packages (from biopsykit) (1.11.4)\n",
            "Requirement already satisfied: seaborn<1,>=0 in /usr/local/lib/python3.10/dist-packages (from biopsykit) (0.13.1)\n",
            "Requirement already satisfied: statannot<0.3.0,>=0.2.3 in /usr/local/lib/python3.10/dist-packages (from biopsykit) (0.2.3)\n",
            "Requirement already satisfied: statsmodels<0.14,>=0.13 in /usr/local/lib/python3.10/dist-packages (from biopsykit) (0.13.5)\n",
            "Requirement already satisfied: tqdm<5,>=4 in /usr/local/lib/python3.10/dist-packages (from biopsykit) (4.66.4)\n",
            "Requirement already satisfied: xlrd<3,>=2 in /usr/local/lib/python3.10/dist-packages (from biopsykit) (2.0.1)\n",
            "Requirement already satisfied: docopt>=0.6.1 in /usr/local/lib/python3.10/dist-packages (from bioread<4,>=3->biopsykit) (0.6.2)\n",
            "Requirement already satisfied: typing-extensions>=3.7 in /usr/local/lib/python3.10/dist-packages (from fau-colors<2.0,>=1.1->biopsykit) (4.12.2)\n",
            "Requirement already satisfied: contourpy>=1.0.1 in /usr/local/lib/python3.10/dist-packages (from matplotlib<4.0,>=3.4->biopsykit) (1.2.1)\n",
            "Requirement already satisfied: cycler>=0.10 in /usr/local/lib/python3.10/dist-packages (from matplotlib<4.0,>=3.4->biopsykit) (0.12.1)\n",
            "Requirement already satisfied: fonttools>=4.22.0 in /usr/local/lib/python3.10/dist-packages (from matplotlib<4.0,>=3.4->biopsykit) (4.53.0)\n",
            "Requirement already satisfied: kiwisolver>=1.0.1 in /usr/local/lib/python3.10/dist-packages (from matplotlib<4.0,>=3.4->biopsykit) (1.4.5)\n",
            "Requirement already satisfied: packaging>=20.0 in /usr/local/lib/python3.10/dist-packages (from matplotlib<4.0,>=3.4->biopsykit) (24.1)\n",
            "Requirement already satisfied: pillow>=6.2.0 in /usr/local/lib/python3.10/dist-packages (from matplotlib<4.0,>=3.4->biopsykit) (9.4.0)\n",
            "Requirement already satisfied: pyparsing>=2.3.1 in /usr/local/lib/python3.10/dist-packages (from matplotlib<4.0,>=3.4->biopsykit) (3.1.2)\n",
            "Requirement already satisfied: python-dateutil>=2.7 in /usr/local/lib/python3.10/dist-packages (from matplotlib<4.0,>=3.4->biopsykit) (2.8.2)\n",
            "Requirement already satisfied: requests in /usr/local/lib/python3.10/dist-packages (from neurokit2<1,>=0->biopsykit) (2.31.0)\n",
            "Requirement already satisfied: imucal>=2.0.0 in /usr/local/lib/python3.10/dist-packages (from nilspodlib>=3.4.1->biopsykit) (2.4.0)\n",
            "Requirement already satisfied: et-xmlfile in /usr/local/lib/python3.10/dist-packages (from openpyxl<4,>=3->biopsykit) (1.1.0)\n",
            "Requirement already satisfied: pytz>=2020.1 in /usr/local/lib/python3.10/dist-packages (from pandas<2,>=1->biopsykit) (2023.4)\n",
            "Requirement already satisfied: pandas-flavor in /usr/local/lib/python3.10/dist-packages (from pingouin<0.6.0,>=0.5.2->biopsykit) (0.6.0)\n",
            "Requirement already satisfied: tabulate in /usr/local/lib/python3.10/dist-packages (from pingouin<0.6.0,>=0.5.2->biopsykit) (0.9.0)\n",
            "Requirement already satisfied: threadpoolctl>=2.0.0 in /usr/local/lib/python3.10/dist-packages (from scikit-learn<2.0,>=1.0->biopsykit) (3.5.0)\n",
            "Requirement already satisfied: patsy>=0.5.2 in /usr/local/lib/python3.10/dist-packages (from statsmodels<0.14,>=0.13->biopsykit) (0.5.6)\n",
            "Requirement already satisfied: six in /usr/local/lib/python3.10/dist-packages (from patsy>=0.5.2->statsmodels<0.14,>=0.13->biopsykit) (1.16.0)\n",
            "Requirement already satisfied: xarray in /usr/local/lib/python3.10/dist-packages (from pandas-flavor->pingouin<0.6.0,>=0.5.2->biopsykit) (2023.7.0)\n",
            "Requirement already satisfied: charset-normalizer<4,>=2 in /usr/local/lib/python3.10/dist-packages (from requests->neurokit2<1,>=0->biopsykit) (3.3.2)\n",
            "Requirement already satisfied: idna<4,>=2.5 in /usr/local/lib/python3.10/dist-packages (from requests->neurokit2<1,>=0->biopsykit) (3.7)\n",
            "Requirement already satisfied: urllib3<3,>=1.21.1 in /usr/local/lib/python3.10/dist-packages (from requests->neurokit2<1,>=0->biopsykit) (2.0.7)\n",
            "Requirement already satisfied: certifi>=2017.4.17 in /usr/local/lib/python3.10/dist-packages (from requests->neurokit2<1,>=0->biopsykit) (2024.6.2)\n"
          ]
        }
      ],
      "source": [
        "import matplotlib.pyplot as plt\n",
        "import numpy as np\n",
        "import pandas as pd\n",
        "# install the BioPsyKit package\n",
        "!pip install biopsykit\n",
        "import biopsykit as bp\n",
        "from itertools import product"
      ]
    },
    {
      "cell_type": "markdown",
      "id": "9e1ace6b-bbf4-4d02-9c31-20937bf0eb8c",
      "metadata": {
        "id": "9e1ace6b-bbf4-4d02-9c31-20937bf0eb8c"
      },
      "source": [
        "#### 1. Pandas Introduction\n",
        "In this task, we will work with an artificial example dataset containing information about patients undergoing the *Oral Glucose Tolerance* (OGT) Test to investigate whether they have diabetes. The OGT Test measures blood sugar before and after patients drink a glucose-containing liquid. This usually involves fasting for 8 hours before the first test, drinking the liquid, then having a follow-up test 2 hours later. Typical blood glucose levels for adults are:\n",
        "\n",
        "| Test time | Without diabetes | With diabetes |\n",
        "| :- | :-: | :- |\n",
        "| Before intake | <= 6 mmol/l | >= 7.0 mmol/l |\n",
        "| 2 hours after intake | <= 7.8 mmol/l | >= 11.0 mmol/l|\n",
        "\n",
        "##### 1.1 Create a ``pandas.DataFrame`` called ``df`` containing the information from ``patients`` and ``samples``. To do so:\n",
        "* Create ``pandas.DataFrame`` called ``df_info`` from ``patients``\n",
        "* Create a ``pandas.DataFrame`` called ``df_samples`` from ``samples``. Set the column names such that the first sample is called ``S0`` and the second sample ``S1``.\n",
        "* Fuse ``df_info`` and ``df_samples`` in ``df`` using [pandas.concat](https://pandas.pydata.org/docs/reference/api/pandas.concat.html) and set the index such that ``P0`` belongs to Jane, ``P1`` to John, and ``P2`` to Ava\n",
        "* Display ``df``\n",
        "\n",
        "**Hint**: ``Pandas`` is already imported above."
      ]
    },
    {
      "cell_type": "code",
      "execution_count": 245,
      "id": "76500882-aa4e-4283-8939-a98d36700fa2",
      "metadata": {
        "deletable": false,
        "nbgrader": {
          "cell_type": "code",
          "checksum": "15ecf6ee879ec8b655e5f4f3abc59679",
          "grade": false,
          "grade_id": "create_df",
          "locked": false,
          "schema_version": 3,
          "solution": true,
          "task": false
        },
        "tags": [],
        "id": "76500882-aa4e-4283-8939-a98d36700fa2",
        "colab": {
          "base_uri": "https://localhost:8080/",
          "height": 164
        },
        "outputId": "1aa30f8b-8978-420a-8e17-dff742774074"
      },
      "outputs": [
        {
          "output_type": "execute_result",
          "data": {
            "text/plain": [
              "    name  age   S0    S1\n",
              "P0  Jane   24  5.8   7.7\n",
              "P1  John   21  7.2  11.5\n",
              "P2   Ava   27  7.5  11.9"
            ],
            "text/html": [
              "\n",
              "  <div id=\"df-367c54e0-a1b8-49b2-a59e-e341cd3f1a39\" class=\"colab-df-container\">\n",
              "    <div>\n",
              "<style scoped>\n",
              "    .dataframe tbody tr th:only-of-type {\n",
              "        vertical-align: middle;\n",
              "    }\n",
              "\n",
              "    .dataframe tbody tr th {\n",
              "        vertical-align: top;\n",
              "    }\n",
              "\n",
              "    .dataframe thead th {\n",
              "        text-align: right;\n",
              "    }\n",
              "</style>\n",
              "<table border=\"1\" class=\"dataframe\">\n",
              "  <thead>\n",
              "    <tr style=\"text-align: right;\">\n",
              "      <th></th>\n",
              "      <th>name</th>\n",
              "      <th>age</th>\n",
              "      <th>S0</th>\n",
              "      <th>S1</th>\n",
              "    </tr>\n",
              "  </thead>\n",
              "  <tbody>\n",
              "    <tr>\n",
              "      <th>P0</th>\n",
              "      <td>Jane</td>\n",
              "      <td>24</td>\n",
              "      <td>5.8</td>\n",
              "      <td>7.7</td>\n",
              "    </tr>\n",
              "    <tr>\n",
              "      <th>P1</th>\n",
              "      <td>John</td>\n",
              "      <td>21</td>\n",
              "      <td>7.2</td>\n",
              "      <td>11.5</td>\n",
              "    </tr>\n",
              "    <tr>\n",
              "      <th>P2</th>\n",
              "      <td>Ava</td>\n",
              "      <td>27</td>\n",
              "      <td>7.5</td>\n",
              "      <td>11.9</td>\n",
              "    </tr>\n",
              "  </tbody>\n",
              "</table>\n",
              "</div>\n",
              "    <div class=\"colab-df-buttons\">\n",
              "\n",
              "  <div class=\"colab-df-container\">\n",
              "    <button class=\"colab-df-convert\" onclick=\"convertToInteractive('df-367c54e0-a1b8-49b2-a59e-e341cd3f1a39')\"\n",
              "            title=\"Convert this dataframe to an interactive table.\"\n",
              "            style=\"display:none;\">\n",
              "\n",
              "  <svg xmlns=\"http://www.w3.org/2000/svg\" height=\"24px\" viewBox=\"0 -960 960 960\">\n",
              "    <path d=\"M120-120v-720h720v720H120Zm60-500h600v-160H180v160Zm220 220h160v-160H400v160Zm0 220h160v-160H400v160ZM180-400h160v-160H180v160Zm440 0h160v-160H620v160ZM180-180h160v-160H180v160Zm440 0h160v-160H620v160Z\"/>\n",
              "  </svg>\n",
              "    </button>\n",
              "\n",
              "  <style>\n",
              "    .colab-df-container {\n",
              "      display:flex;\n",
              "      gap: 12px;\n",
              "    }\n",
              "\n",
              "    .colab-df-convert {\n",
              "      background-color: #E8F0FE;\n",
              "      border: none;\n",
              "      border-radius: 50%;\n",
              "      cursor: pointer;\n",
              "      display: none;\n",
              "      fill: #1967D2;\n",
              "      height: 32px;\n",
              "      padding: 0 0 0 0;\n",
              "      width: 32px;\n",
              "    }\n",
              "\n",
              "    .colab-df-convert:hover {\n",
              "      background-color: #E2EBFA;\n",
              "      box-shadow: 0px 1px 2px rgba(60, 64, 67, 0.3), 0px 1px 3px 1px rgba(60, 64, 67, 0.15);\n",
              "      fill: #174EA6;\n",
              "    }\n",
              "\n",
              "    .colab-df-buttons div {\n",
              "      margin-bottom: 4px;\n",
              "    }\n",
              "\n",
              "    [theme=dark] .colab-df-convert {\n",
              "      background-color: #3B4455;\n",
              "      fill: #D2E3FC;\n",
              "    }\n",
              "\n",
              "    [theme=dark] .colab-df-convert:hover {\n",
              "      background-color: #434B5C;\n",
              "      box-shadow: 0px 1px 3px 1px rgba(0, 0, 0, 0.15);\n",
              "      filter: drop-shadow(0px 1px 2px rgba(0, 0, 0, 0.3));\n",
              "      fill: #FFFFFF;\n",
              "    }\n",
              "  </style>\n",
              "\n",
              "    <script>\n",
              "      const buttonEl =\n",
              "        document.querySelector('#df-367c54e0-a1b8-49b2-a59e-e341cd3f1a39 button.colab-df-convert');\n",
              "      buttonEl.style.display =\n",
              "        google.colab.kernel.accessAllowed ? 'block' : 'none';\n",
              "\n",
              "      async function convertToInteractive(key) {\n",
              "        const element = document.querySelector('#df-367c54e0-a1b8-49b2-a59e-e341cd3f1a39');\n",
              "        const dataTable =\n",
              "          await google.colab.kernel.invokeFunction('convertToInteractive',\n",
              "                                                    [key], {});\n",
              "        if (!dataTable) return;\n",
              "\n",
              "        const docLinkHtml = 'Like what you see? Visit the ' +\n",
              "          '<a target=\"_blank\" href=https://colab.research.google.com/notebooks/data_table.ipynb>data table notebook</a>'\n",
              "          + ' to learn more about interactive tables.';\n",
              "        element.innerHTML = '';\n",
              "        dataTable['output_type'] = 'display_data';\n",
              "        await google.colab.output.renderOutput(dataTable, element);\n",
              "        const docLink = document.createElement('div');\n",
              "        docLink.innerHTML = docLinkHtml;\n",
              "        element.appendChild(docLink);\n",
              "      }\n",
              "    </script>\n",
              "  </div>\n",
              "\n",
              "\n",
              "<div id=\"df-7de88649-f16a-4d4b-a2cd-0d12f3fe8dfd\">\n",
              "  <button class=\"colab-df-quickchart\" onclick=\"quickchart('df-7de88649-f16a-4d4b-a2cd-0d12f3fe8dfd')\"\n",
              "            title=\"Suggest charts\"\n",
              "            style=\"display:none;\">\n",
              "\n",
              "<svg xmlns=\"http://www.w3.org/2000/svg\" height=\"24px\"viewBox=\"0 0 24 24\"\n",
              "     width=\"24px\">\n",
              "    <g>\n",
              "        <path d=\"M19 3H5c-1.1 0-2 .9-2 2v14c0 1.1.9 2 2 2h14c1.1 0 2-.9 2-2V5c0-1.1-.9-2-2-2zM9 17H7v-7h2v7zm4 0h-2V7h2v10zm4 0h-2v-4h2v4z\"/>\n",
              "    </g>\n",
              "</svg>\n",
              "  </button>\n",
              "\n",
              "<style>\n",
              "  .colab-df-quickchart {\n",
              "      --bg-color: #E8F0FE;\n",
              "      --fill-color: #1967D2;\n",
              "      --hover-bg-color: #E2EBFA;\n",
              "      --hover-fill-color: #174EA6;\n",
              "      --disabled-fill-color: #AAA;\n",
              "      --disabled-bg-color: #DDD;\n",
              "  }\n",
              "\n",
              "  [theme=dark] .colab-df-quickchart {\n",
              "      --bg-color: #3B4455;\n",
              "      --fill-color: #D2E3FC;\n",
              "      --hover-bg-color: #434B5C;\n",
              "      --hover-fill-color: #FFFFFF;\n",
              "      --disabled-bg-color: #3B4455;\n",
              "      --disabled-fill-color: #666;\n",
              "  }\n",
              "\n",
              "  .colab-df-quickchart {\n",
              "    background-color: var(--bg-color);\n",
              "    border: none;\n",
              "    border-radius: 50%;\n",
              "    cursor: pointer;\n",
              "    display: none;\n",
              "    fill: var(--fill-color);\n",
              "    height: 32px;\n",
              "    padding: 0;\n",
              "    width: 32px;\n",
              "  }\n",
              "\n",
              "  .colab-df-quickchart:hover {\n",
              "    background-color: var(--hover-bg-color);\n",
              "    box-shadow: 0 1px 2px rgba(60, 64, 67, 0.3), 0 1px 3px 1px rgba(60, 64, 67, 0.15);\n",
              "    fill: var(--button-hover-fill-color);\n",
              "  }\n",
              "\n",
              "  .colab-df-quickchart-complete:disabled,\n",
              "  .colab-df-quickchart-complete:disabled:hover {\n",
              "    background-color: var(--disabled-bg-color);\n",
              "    fill: var(--disabled-fill-color);\n",
              "    box-shadow: none;\n",
              "  }\n",
              "\n",
              "  .colab-df-spinner {\n",
              "    border: 2px solid var(--fill-color);\n",
              "    border-color: transparent;\n",
              "    border-bottom-color: var(--fill-color);\n",
              "    animation:\n",
              "      spin 1s steps(1) infinite;\n",
              "  }\n",
              "\n",
              "  @keyframes spin {\n",
              "    0% {\n",
              "      border-color: transparent;\n",
              "      border-bottom-color: var(--fill-color);\n",
              "      border-left-color: var(--fill-color);\n",
              "    }\n",
              "    20% {\n",
              "      border-color: transparent;\n",
              "      border-left-color: var(--fill-color);\n",
              "      border-top-color: var(--fill-color);\n",
              "    }\n",
              "    30% {\n",
              "      border-color: transparent;\n",
              "      border-left-color: var(--fill-color);\n",
              "      border-top-color: var(--fill-color);\n",
              "      border-right-color: var(--fill-color);\n",
              "    }\n",
              "    40% {\n",
              "      border-color: transparent;\n",
              "      border-right-color: var(--fill-color);\n",
              "      border-top-color: var(--fill-color);\n",
              "    }\n",
              "    60% {\n",
              "      border-color: transparent;\n",
              "      border-right-color: var(--fill-color);\n",
              "    }\n",
              "    80% {\n",
              "      border-color: transparent;\n",
              "      border-right-color: var(--fill-color);\n",
              "      border-bottom-color: var(--fill-color);\n",
              "    }\n",
              "    90% {\n",
              "      border-color: transparent;\n",
              "      border-bottom-color: var(--fill-color);\n",
              "    }\n",
              "  }\n",
              "</style>\n",
              "\n",
              "  <script>\n",
              "    async function quickchart(key) {\n",
              "      const quickchartButtonEl =\n",
              "        document.querySelector('#' + key + ' button');\n",
              "      quickchartButtonEl.disabled = true;  // To prevent multiple clicks.\n",
              "      quickchartButtonEl.classList.add('colab-df-spinner');\n",
              "      try {\n",
              "        const charts = await google.colab.kernel.invokeFunction(\n",
              "            'suggestCharts', [key], {});\n",
              "      } catch (error) {\n",
              "        console.error('Error during call to suggestCharts:', error);\n",
              "      }\n",
              "      quickchartButtonEl.classList.remove('colab-df-spinner');\n",
              "      quickchartButtonEl.classList.add('colab-df-quickchart-complete');\n",
              "    }\n",
              "    (() => {\n",
              "      let quickchartButtonEl =\n",
              "        document.querySelector('#df-7de88649-f16a-4d4b-a2cd-0d12f3fe8dfd button');\n",
              "      quickchartButtonEl.style.display =\n",
              "        google.colab.kernel.accessAllowed ? 'block' : 'none';\n",
              "    })();\n",
              "  </script>\n",
              "</div>\n",
              "    </div>\n",
              "  </div>\n"
            ],
            "application/vnd.google.colaboratory.intrinsic+json": {
              "type": "dataframe",
              "variable_name": "df",
              "summary": "{\n  \"name\": \"df\",\n  \"rows\": 3,\n  \"fields\": [\n    {\n      \"column\": \"name\",\n      \"properties\": {\n        \"dtype\": \"string\",\n        \"num_unique_values\": 3,\n        \"samples\": [\n          \"Jane\",\n          \"John\",\n          \"Ava\"\n        ],\n        \"semantic_type\": \"\",\n        \"description\": \"\"\n      }\n    },\n    {\n      \"column\": \"age\",\n      \"properties\": {\n        \"dtype\": \"number\",\n        \"std\": 3,\n        \"min\": 21,\n        \"max\": 27,\n        \"num_unique_values\": 3,\n        \"samples\": [\n          24,\n          21,\n          27\n        ],\n        \"semantic_type\": \"\",\n        \"description\": \"\"\n      }\n    },\n    {\n      \"column\": \"S0\",\n      \"properties\": {\n        \"dtype\": \"number\",\n        \"std\": 0.9073771725877467,\n        \"min\": 5.8,\n        \"max\": 7.5,\n        \"num_unique_values\": 3,\n        \"samples\": [\n          5.8,\n          7.2,\n          7.5\n        ],\n        \"semantic_type\": \"\",\n        \"description\": \"\"\n      }\n    },\n    {\n      \"column\": \"S1\",\n      \"properties\": {\n        \"dtype\": \"number\",\n        \"std\": 2.3180451534284945,\n        \"min\": 7.7,\n        \"max\": 11.9,\n        \"num_unique_values\": 3,\n        \"samples\": [\n          7.7,\n          11.5,\n          11.9\n        ],\n        \"semantic_type\": \"\",\n        \"description\": \"\"\n      }\n    }\n  ]\n}"
            }
          },
          "metadata": {},
          "execution_count": 245
        }
      ],
      "source": [
        "patients = {\n",
        "    \"name\": [\"Jane\", \"John\", \"Ava\"],\n",
        "    \"age\": [24, 21, 27]\n",
        "}\n",
        "\n",
        "samples = np.array([[5.8, 7.7], [7.2, 11.5], [7.5, 11.9]])\n",
        "\n",
        "df_info = pd.DataFrame(patients)\n",
        "\n",
        "df_samples = pd.DataFrame(samples, columns = ['S{}'.format(i) for i in range(0, len(samples[0]))])\n",
        "\n",
        "df = pd.DataFrame(pd.concat([df_info, df_samples], axis=1))\n",
        "df.rename(index = {i : f\"P{i}\" for i in range(0, len(samples))}, inplace = True)\n",
        "df"
      ]
    },
    {
      "cell_type": "code",
      "execution_count": 246,
      "id": "b6ed2cba-cad0-4bc6-b414-ed8aaf6bc87a",
      "metadata": {
        "deletable": false,
        "editable": false,
        "nbgrader": {
          "cell_type": "code",
          "checksum": "23e87370dcf783ced61965152a91e056",
          "grade": true,
          "grade_id": "create_df_test",
          "locked": true,
          "points": 1,
          "schema_version": 3,
          "solution": false,
          "task": false
        },
        "tags": [],
        "id": "b6ed2cba-cad0-4bc6-b414-ed8aaf6bc87a"
      },
      "outputs": [],
      "source": [
        "# run tests to check your implementation\n",
        "assert df_info.shape == (3, 2) and list(df_info.columns) == [\"name\", \"age\"], \"Check if you created df_info correctly\"\n",
        "assert df_samples.shape == (3, 2) and list(df_samples.columns) == [\"S0\", \"S1\"], \"Check if you created df_samples correctly\"\n",
        "assert df.shape == (3, 4), \"Check if you concatenated the data frames with the correct axis\"\n",
        "assert list(df.index) == [\"P0\", \"P1\", \"P2\"], \"Check if you set your index as specified\""
      ]
    },
    {
      "cell_type": "markdown",
      "id": "060566e2-f58c-40bc-a7c8-0806b5f47e28",
      "metadata": {
        "id": "060566e2-f58c-40bc-a7c8-0806b5f47e28"
      },
      "source": [
        "##### 1.2 Add another row to ``df`` with\n",
        "* index: P3, name: Scott, age: 23, S0: 5.9, S1: 7.6\n",
        "* Display the new version of ``df``"
      ]
    },
    {
      "cell_type": "code",
      "execution_count": 247,
      "id": "2612b6a1-97f3-40cb-a0c4-a492a45bce43",
      "metadata": {
        "deletable": false,
        "nbgrader": {
          "cell_type": "code",
          "checksum": "1f8df06f1e8a4f7c03eb465ad356c2f1",
          "grade": false,
          "grade_id": "add_row",
          "locked": false,
          "schema_version": 3,
          "solution": true,
          "task": false
        },
        "tags": [],
        "id": "2612b6a1-97f3-40cb-a0c4-a492a45bce43",
        "colab": {
          "base_uri": "https://localhost:8080/",
          "height": 195
        },
        "outputId": "ed979946-389f-4741-d053-97376a935198"
      },
      "outputs": [
        {
          "output_type": "execute_result",
          "data": {
            "text/plain": [
              "     name  age   S0    S1\n",
              "P0   Jane   24  5.8   7.7\n",
              "P1   John   21  7.2  11.5\n",
              "P2    Ava   27  7.5  11.9\n",
              "P3  Scott   23  5.9   7.6"
            ],
            "text/html": [
              "\n",
              "  <div id=\"df-80d1dc75-dfe6-4491-a222-67bdf1d28aa6\" class=\"colab-df-container\">\n",
              "    <div>\n",
              "<style scoped>\n",
              "    .dataframe tbody tr th:only-of-type {\n",
              "        vertical-align: middle;\n",
              "    }\n",
              "\n",
              "    .dataframe tbody tr th {\n",
              "        vertical-align: top;\n",
              "    }\n",
              "\n",
              "    .dataframe thead th {\n",
              "        text-align: right;\n",
              "    }\n",
              "</style>\n",
              "<table border=\"1\" class=\"dataframe\">\n",
              "  <thead>\n",
              "    <tr style=\"text-align: right;\">\n",
              "      <th></th>\n",
              "      <th>name</th>\n",
              "      <th>age</th>\n",
              "      <th>S0</th>\n",
              "      <th>S1</th>\n",
              "    </tr>\n",
              "  </thead>\n",
              "  <tbody>\n",
              "    <tr>\n",
              "      <th>P0</th>\n",
              "      <td>Jane</td>\n",
              "      <td>24</td>\n",
              "      <td>5.8</td>\n",
              "      <td>7.7</td>\n",
              "    </tr>\n",
              "    <tr>\n",
              "      <th>P1</th>\n",
              "      <td>John</td>\n",
              "      <td>21</td>\n",
              "      <td>7.2</td>\n",
              "      <td>11.5</td>\n",
              "    </tr>\n",
              "    <tr>\n",
              "      <th>P2</th>\n",
              "      <td>Ava</td>\n",
              "      <td>27</td>\n",
              "      <td>7.5</td>\n",
              "      <td>11.9</td>\n",
              "    </tr>\n",
              "    <tr>\n",
              "      <th>P3</th>\n",
              "      <td>Scott</td>\n",
              "      <td>23</td>\n",
              "      <td>5.9</td>\n",
              "      <td>7.6</td>\n",
              "    </tr>\n",
              "  </tbody>\n",
              "</table>\n",
              "</div>\n",
              "    <div class=\"colab-df-buttons\">\n",
              "\n",
              "  <div class=\"colab-df-container\">\n",
              "    <button class=\"colab-df-convert\" onclick=\"convertToInteractive('df-80d1dc75-dfe6-4491-a222-67bdf1d28aa6')\"\n",
              "            title=\"Convert this dataframe to an interactive table.\"\n",
              "            style=\"display:none;\">\n",
              "\n",
              "  <svg xmlns=\"http://www.w3.org/2000/svg\" height=\"24px\" viewBox=\"0 -960 960 960\">\n",
              "    <path d=\"M120-120v-720h720v720H120Zm60-500h600v-160H180v160Zm220 220h160v-160H400v160Zm0 220h160v-160H400v160ZM180-400h160v-160H180v160Zm440 0h160v-160H620v160ZM180-180h160v-160H180v160Zm440 0h160v-160H620v160Z\"/>\n",
              "  </svg>\n",
              "    </button>\n",
              "\n",
              "  <style>\n",
              "    .colab-df-container {\n",
              "      display:flex;\n",
              "      gap: 12px;\n",
              "    }\n",
              "\n",
              "    .colab-df-convert {\n",
              "      background-color: #E8F0FE;\n",
              "      border: none;\n",
              "      border-radius: 50%;\n",
              "      cursor: pointer;\n",
              "      display: none;\n",
              "      fill: #1967D2;\n",
              "      height: 32px;\n",
              "      padding: 0 0 0 0;\n",
              "      width: 32px;\n",
              "    }\n",
              "\n",
              "    .colab-df-convert:hover {\n",
              "      background-color: #E2EBFA;\n",
              "      box-shadow: 0px 1px 2px rgba(60, 64, 67, 0.3), 0px 1px 3px 1px rgba(60, 64, 67, 0.15);\n",
              "      fill: #174EA6;\n",
              "    }\n",
              "\n",
              "    .colab-df-buttons div {\n",
              "      margin-bottom: 4px;\n",
              "    }\n",
              "\n",
              "    [theme=dark] .colab-df-convert {\n",
              "      background-color: #3B4455;\n",
              "      fill: #D2E3FC;\n",
              "    }\n",
              "\n",
              "    [theme=dark] .colab-df-convert:hover {\n",
              "      background-color: #434B5C;\n",
              "      box-shadow: 0px 1px 3px 1px rgba(0, 0, 0, 0.15);\n",
              "      filter: drop-shadow(0px 1px 2px rgba(0, 0, 0, 0.3));\n",
              "      fill: #FFFFFF;\n",
              "    }\n",
              "  </style>\n",
              "\n",
              "    <script>\n",
              "      const buttonEl =\n",
              "        document.querySelector('#df-80d1dc75-dfe6-4491-a222-67bdf1d28aa6 button.colab-df-convert');\n",
              "      buttonEl.style.display =\n",
              "        google.colab.kernel.accessAllowed ? 'block' : 'none';\n",
              "\n",
              "      async function convertToInteractive(key) {\n",
              "        const element = document.querySelector('#df-80d1dc75-dfe6-4491-a222-67bdf1d28aa6');\n",
              "        const dataTable =\n",
              "          await google.colab.kernel.invokeFunction('convertToInteractive',\n",
              "                                                    [key], {});\n",
              "        if (!dataTable) return;\n",
              "\n",
              "        const docLinkHtml = 'Like what you see? Visit the ' +\n",
              "          '<a target=\"_blank\" href=https://colab.research.google.com/notebooks/data_table.ipynb>data table notebook</a>'\n",
              "          + ' to learn more about interactive tables.';\n",
              "        element.innerHTML = '';\n",
              "        dataTable['output_type'] = 'display_data';\n",
              "        await google.colab.output.renderOutput(dataTable, element);\n",
              "        const docLink = document.createElement('div');\n",
              "        docLink.innerHTML = docLinkHtml;\n",
              "        element.appendChild(docLink);\n",
              "      }\n",
              "    </script>\n",
              "  </div>\n",
              "\n",
              "\n",
              "<div id=\"df-32c6548e-67dc-45c6-95c2-150dba90d199\">\n",
              "  <button class=\"colab-df-quickchart\" onclick=\"quickchart('df-32c6548e-67dc-45c6-95c2-150dba90d199')\"\n",
              "            title=\"Suggest charts\"\n",
              "            style=\"display:none;\">\n",
              "\n",
              "<svg xmlns=\"http://www.w3.org/2000/svg\" height=\"24px\"viewBox=\"0 0 24 24\"\n",
              "     width=\"24px\">\n",
              "    <g>\n",
              "        <path d=\"M19 3H5c-1.1 0-2 .9-2 2v14c0 1.1.9 2 2 2h14c1.1 0 2-.9 2-2V5c0-1.1-.9-2-2-2zM9 17H7v-7h2v7zm4 0h-2V7h2v10zm4 0h-2v-4h2v4z\"/>\n",
              "    </g>\n",
              "</svg>\n",
              "  </button>\n",
              "\n",
              "<style>\n",
              "  .colab-df-quickchart {\n",
              "      --bg-color: #E8F0FE;\n",
              "      --fill-color: #1967D2;\n",
              "      --hover-bg-color: #E2EBFA;\n",
              "      --hover-fill-color: #174EA6;\n",
              "      --disabled-fill-color: #AAA;\n",
              "      --disabled-bg-color: #DDD;\n",
              "  }\n",
              "\n",
              "  [theme=dark] .colab-df-quickchart {\n",
              "      --bg-color: #3B4455;\n",
              "      --fill-color: #D2E3FC;\n",
              "      --hover-bg-color: #434B5C;\n",
              "      --hover-fill-color: #FFFFFF;\n",
              "      --disabled-bg-color: #3B4455;\n",
              "      --disabled-fill-color: #666;\n",
              "  }\n",
              "\n",
              "  .colab-df-quickchart {\n",
              "    background-color: var(--bg-color);\n",
              "    border: none;\n",
              "    border-radius: 50%;\n",
              "    cursor: pointer;\n",
              "    display: none;\n",
              "    fill: var(--fill-color);\n",
              "    height: 32px;\n",
              "    padding: 0;\n",
              "    width: 32px;\n",
              "  }\n",
              "\n",
              "  .colab-df-quickchart:hover {\n",
              "    background-color: var(--hover-bg-color);\n",
              "    box-shadow: 0 1px 2px rgba(60, 64, 67, 0.3), 0 1px 3px 1px rgba(60, 64, 67, 0.15);\n",
              "    fill: var(--button-hover-fill-color);\n",
              "  }\n",
              "\n",
              "  .colab-df-quickchart-complete:disabled,\n",
              "  .colab-df-quickchart-complete:disabled:hover {\n",
              "    background-color: var(--disabled-bg-color);\n",
              "    fill: var(--disabled-fill-color);\n",
              "    box-shadow: none;\n",
              "  }\n",
              "\n",
              "  .colab-df-spinner {\n",
              "    border: 2px solid var(--fill-color);\n",
              "    border-color: transparent;\n",
              "    border-bottom-color: var(--fill-color);\n",
              "    animation:\n",
              "      spin 1s steps(1) infinite;\n",
              "  }\n",
              "\n",
              "  @keyframes spin {\n",
              "    0% {\n",
              "      border-color: transparent;\n",
              "      border-bottom-color: var(--fill-color);\n",
              "      border-left-color: var(--fill-color);\n",
              "    }\n",
              "    20% {\n",
              "      border-color: transparent;\n",
              "      border-left-color: var(--fill-color);\n",
              "      border-top-color: var(--fill-color);\n",
              "    }\n",
              "    30% {\n",
              "      border-color: transparent;\n",
              "      border-left-color: var(--fill-color);\n",
              "      border-top-color: var(--fill-color);\n",
              "      border-right-color: var(--fill-color);\n",
              "    }\n",
              "    40% {\n",
              "      border-color: transparent;\n",
              "      border-right-color: var(--fill-color);\n",
              "      border-top-color: var(--fill-color);\n",
              "    }\n",
              "    60% {\n",
              "      border-color: transparent;\n",
              "      border-right-color: var(--fill-color);\n",
              "    }\n",
              "    80% {\n",
              "      border-color: transparent;\n",
              "      border-right-color: var(--fill-color);\n",
              "      border-bottom-color: var(--fill-color);\n",
              "    }\n",
              "    90% {\n",
              "      border-color: transparent;\n",
              "      border-bottom-color: var(--fill-color);\n",
              "    }\n",
              "  }\n",
              "</style>\n",
              "\n",
              "  <script>\n",
              "    async function quickchart(key) {\n",
              "      const quickchartButtonEl =\n",
              "        document.querySelector('#' + key + ' button');\n",
              "      quickchartButtonEl.disabled = true;  // To prevent multiple clicks.\n",
              "      quickchartButtonEl.classList.add('colab-df-spinner');\n",
              "      try {\n",
              "        const charts = await google.colab.kernel.invokeFunction(\n",
              "            'suggestCharts', [key], {});\n",
              "      } catch (error) {\n",
              "        console.error('Error during call to suggestCharts:', error);\n",
              "      }\n",
              "      quickchartButtonEl.classList.remove('colab-df-spinner');\n",
              "      quickchartButtonEl.classList.add('colab-df-quickchart-complete');\n",
              "    }\n",
              "    (() => {\n",
              "      let quickchartButtonEl =\n",
              "        document.querySelector('#df-32c6548e-67dc-45c6-95c2-150dba90d199 button');\n",
              "      quickchartButtonEl.style.display =\n",
              "        google.colab.kernel.accessAllowed ? 'block' : 'none';\n",
              "    })();\n",
              "  </script>\n",
              "</div>\n",
              "    </div>\n",
              "  </div>\n"
            ],
            "application/vnd.google.colaboratory.intrinsic+json": {
              "type": "dataframe",
              "variable_name": "df",
              "summary": "{\n  \"name\": \"df\",\n  \"rows\": 4,\n  \"fields\": [\n    {\n      \"column\": \"name\",\n      \"properties\": {\n        \"dtype\": \"string\",\n        \"num_unique_values\": 4,\n        \"samples\": [\n          \"John\",\n          \"Scott\",\n          \"Jane\"\n        ],\n        \"semantic_type\": \"\",\n        \"description\": \"\"\n      }\n    },\n    {\n      \"column\": \"age\",\n      \"properties\": {\n        \"dtype\": \"number\",\n        \"std\": 2,\n        \"min\": 21,\n        \"max\": 27,\n        \"num_unique_values\": 4,\n        \"samples\": [\n          21,\n          23,\n          24\n        ],\n        \"semantic_type\": \"\",\n        \"description\": \"\"\n      }\n    },\n    {\n      \"column\": \"S0\",\n      \"properties\": {\n        \"dtype\": \"number\",\n        \"std\": 0.8755950357709131,\n        \"min\": 5.8,\n        \"max\": 7.5,\n        \"num_unique_values\": 4,\n        \"samples\": [\n          7.2,\n          5.9,\n          5.8\n        ],\n        \"semantic_type\": \"\",\n        \"description\": \"\"\n      }\n    },\n    {\n      \"column\": \"S1\",\n      \"properties\": {\n        \"dtype\": \"number\",\n        \"std\": 2.344319375284292,\n        \"min\": 7.6,\n        \"max\": 11.9,\n        \"num_unique_values\": 4,\n        \"samples\": [\n          11.5,\n          7.6,\n          7.7\n        ],\n        \"semantic_type\": \"\",\n        \"description\": \"\"\n      }\n    }\n  ]\n}"
            }
          },
          "metadata": {},
          "execution_count": 247
        }
      ],
      "source": [
        "df.loc[\"P3\"] = [\"Scott\", 23, 5.9, 7.6]\n",
        "df"
      ]
    },
    {
      "cell_type": "code",
      "execution_count": 248,
      "id": "b329a9ee-270d-4edc-a246-e1245097db7a",
      "metadata": {
        "deletable": false,
        "editable": false,
        "nbgrader": {
          "cell_type": "code",
          "checksum": "04c2249f3f14029e5074e65004bd2538",
          "grade": true,
          "grade_id": "add_row_test",
          "locked": true,
          "points": 0.5,
          "schema_version": 3,
          "solution": false,
          "task": false
        },
        "tags": [],
        "id": "b329a9ee-270d-4edc-a246-e1245097db7a"
      },
      "outputs": [],
      "source": [
        "# run tests to check your implementation\n",
        "assert df.shape == (4, 4), \"Check if you added a row and not a column\"\n",
        "assert list(df.index) == [\"P0\", \"P1\", \"P2\", \"P3\"], \"Check if you set your index for Scott correctly\"\n",
        "assert df.loc[\"P3\", \"name\"] == \"Scott\" and df.loc[\"P3\", \"age\"] == 23 and df.loc[\"P3\", \"S0\"] == 5.9 and df.loc[\"P3\", \"S1\"] == 7.6, \"Check your inserted values for Scott\""
      ]
    },
    {
      "cell_type": "markdown",
      "id": "7713f447-d9bf-4372-8275-5bf09aea0e34",
      "metadata": {
        "id": "7713f447-d9bf-4372-8275-5bf09aea0e34"
      },
      "source": [
        "##### 1.3 Calculate the mean value for each of the samples (S0 and S1 separately) over all patients using ``np.mean`` and save the result in ``df_mean``:\n",
        "\n",
        "**Hint**: Access the relevant columns first and then apply ``np.mean``."
      ]
    },
    {
      "cell_type": "code",
      "execution_count": 249,
      "id": "5fdef016-54a9-407a-bdff-1f3630b7a138",
      "metadata": {
        "deletable": false,
        "nbgrader": {
          "cell_type": "code",
          "checksum": "87a778565cd358a19cfe9d165136e898",
          "grade": false,
          "grade_id": "df_mean",
          "locked": false,
          "schema_version": 3,
          "solution": true,
          "task": false
        },
        "tags": [],
        "id": "5fdef016-54a9-407a-bdff-1f3630b7a138"
      },
      "outputs": [],
      "source": [
        "df_mean = (df.loc[:, [\"S0\", \"S1\"]]).mean()\n",
        "#df_mean = np.mean(df.loc[:, [\"S0\", \"S1\"]])"
      ]
    },
    {
      "cell_type": "code",
      "execution_count": 250,
      "id": "f2ed8727-6970-465c-9625-5d90e752db36",
      "metadata": {
        "deletable": false,
        "editable": false,
        "nbgrader": {
          "cell_type": "code",
          "checksum": "db37d92f87cc3d09a9a1fb5393dbad73",
          "grade": true,
          "grade_id": "df_mean_test",
          "locked": true,
          "points": 0.5,
          "schema_version": 3,
          "solution": false,
          "task": false
        },
        "tags": [],
        "id": "f2ed8727-6970-465c-9625-5d90e752db36"
      },
      "outputs": [],
      "source": [
        "# run tests to check your implementation\n",
        "assert type(df_mean) == pd.Series, \"Ensure that df_mean is a pandas.Series and not a numpy.array or pandas.DataFrame\"\n",
        "assert df_mean[\"S0\"] == 6.6 and df_mean[\"S1\"] == 9.675, \"Check your mean calculation\""
      ]
    },
    {
      "cell_type": "markdown",
      "id": "52fe3c10-0865-469c-aad5-84a16c8d1218",
      "metadata": {
        "id": "52fe3c10-0865-469c-aad5-84a16c8d1218"
      },
      "source": [
        "##### 1.4 Index the row which corresponds to Ava and save the result in ``df_ava``:"
      ]
    },
    {
      "cell_type": "code",
      "execution_count": 251,
      "id": "32144850-5ea6-4eb5-8eb8-7194ebd0b445",
      "metadata": {
        "deletable": false,
        "nbgrader": {
          "cell_type": "code",
          "checksum": "2ae407732c3c9e82bbc92bfe2cca82c7",
          "grade": false,
          "grade_id": "df_ava",
          "locked": false,
          "schema_version": 3,
          "solution": true,
          "task": false
        },
        "tags": [],
        "id": "32144850-5ea6-4eb5-8eb8-7194ebd0b445"
      },
      "outputs": [],
      "source": [
        "df_ava = df[df[\"name\"] == \"Ava\"]"
      ]
    },
    {
      "cell_type": "code",
      "execution_count": 252,
      "id": "e3f68d7b-704a-4762-9c94-57c044021cdd",
      "metadata": {
        "deletable": false,
        "editable": false,
        "nbgrader": {
          "cell_type": "code",
          "checksum": "062c925e5ef4089641e24597e102a9e1",
          "grade": true,
          "grade_id": "df_ava_test",
          "locked": true,
          "points": 0.5,
          "schema_version": 3,
          "solution": false,
          "task": false
        },
        "tags": [],
        "id": "e3f68d7b-704a-4762-9c94-57c044021cdd"
      },
      "outputs": [],
      "source": [
        "# run tests to check your implementation\n",
        "if type(df_ava) == pd.Series:\n",
        "    assert df_ava.shape == (4,), \"Check that you indexed the whole row of Ava\"\n",
        "    assert df_ava[\"name\"] == \"Ava\", \"Check that you indexed the correct row\"\n",
        "else:\n",
        "    assert df_ava.shape == (1, 4), \"Check that you indexed the whole row of Ava\"\n",
        "    assert (df_ava[\"name\"] == \"Ava\").all(), \"Check that you indexed the correct row\""
      ]
    },
    {
      "cell_type": "markdown",
      "id": "bf14d550-c641-4c3a-8dea-bc68ee84ab04",
      "metadata": {
        "id": "bf14d550-c641-4c3a-8dea-bc68ee84ab04"
      },
      "source": [
        "##### 1.5 Create a ``pandas.DataFrame`` called ``df_diabetic`` which contains only the patients where the OGT Test indicates that they have diabetes:\n",
        "**Hint**: Check the task description again for the correct levels."
      ]
    },
    {
      "cell_type": "code",
      "execution_count": 253,
      "id": "d5351065-a8b2-4859-a101-d1c587637516",
      "metadata": {
        "deletable": false,
        "nbgrader": {
          "cell_type": "code",
          "checksum": "637f8c6860aad2d86817b0f31a5824cf",
          "grade": false,
          "grade_id": "df_diabetic",
          "locked": false,
          "schema_version": 3,
          "solution": true,
          "task": false
        },
        "tags": [],
        "id": "d5351065-a8b2-4859-a101-d1c587637516"
      },
      "outputs": [],
      "source": [
        "#Before intake \t<= 6 mmol/l \t>= 7.0 mmol/l\n",
        "#2 hours after intake \t<= 7.8 mmol/l \t>= 11.0 mmol/l\n",
        "df_diabetic = df[(df[\"S0\"] >= 6) & (df[\"S1\"] >= 11)]"
      ]
    },
    {
      "cell_type": "code",
      "execution_count": 254,
      "id": "d7fc3b98-da52-4417-aa71-95c21c2d0480",
      "metadata": {
        "deletable": false,
        "editable": false,
        "nbgrader": {
          "cell_type": "code",
          "checksum": "da3c5b5c21cfa3ecd5c6bc30c9d1d9ac",
          "grade": true,
          "grade_id": "df_diabetic_test",
          "locked": true,
          "points": 0.5,
          "schema_version": 3,
          "solution": false,
          "task": false
        },
        "tags": [],
        "id": "d7fc3b98-da52-4417-aa71-95c21c2d0480"
      },
      "outputs": [],
      "source": [
        "# run test to check your implementation\n",
        "assert df_diabetic.shape == (2, 4) and list(df_diabetic.index) == [\"P1\", \"P2\"], \"Check that you used the right levels to determine diabetes\""
      ]
    },
    {
      "cell_type": "markdown",
      "id": "8b0b06ff-8425-4860-ab53-e7c8778ad160",
      "metadata": {
        "id": "8b0b06ff-8425-4860-ab53-e7c8778ad160"
      },
      "source": [
        "##### 1.6 Create a ``pandas.DataFrame`` called ``df_non_diabetic`` where you [drop](https://pandas.pydata.org/docs/reference/api/pandas.DataFrame.drop.html) all patients included in ``df_diabetic``:"
      ]
    },
    {
      "cell_type": "code",
      "execution_count": 255,
      "id": "67e57e87-e028-4696-9780-d06cfcf908ce",
      "metadata": {
        "deletable": false,
        "nbgrader": {
          "cell_type": "code",
          "checksum": "191d5cc4a33ffeb03fe8daddf1caf07c",
          "grade": false,
          "grade_id": "df_non_diabetic",
          "locked": false,
          "schema_version": 3,
          "solution": true,
          "task": false
        },
        "tags": [],
        "id": "67e57e87-e028-4696-9780-d06cfcf908ce"
      },
      "outputs": [],
      "source": [
        "df_non_diabetic = df.drop(df_diabetic.index)"
      ]
    },
    {
      "cell_type": "code",
      "execution_count": 256,
      "id": "17f97769-09f1-472e-bcff-d9e54fd14c0a",
      "metadata": {
        "deletable": false,
        "editable": false,
        "nbgrader": {
          "cell_type": "code",
          "checksum": "d6b1ea189778ccd6eee4354931a7c2f0",
          "grade": true,
          "grade_id": "df_non_diabetic_test",
          "locked": true,
          "points": 0.5,
          "schema_version": 3,
          "solution": false,
          "task": false
        },
        "tags": [],
        "id": "17f97769-09f1-472e-bcff-d9e54fd14c0a"
      },
      "outputs": [],
      "source": [
        "# run test to check your implementation\n",
        "assert df_non_diabetic.shape == (2, 4) and list(df_non_diabetic.index) == [\"P0\", \"P3\"], \"Check if you removed the correct patients\""
      ]
    },
    {
      "cell_type": "markdown",
      "id": "bb8d3028-b1dc-43f4-8301-a51e699fcaa9",
      "metadata": {
        "id": "bb8d3028-b1dc-43f4-8301-a51e699fcaa9"
      },
      "source": [
        "##### 1.7 Add a column called ``diabetic`` to ``df`` that has ``True`` values if the patient is diabetic and ``False`` values if the patient is not:"
      ]
    },
    {
      "cell_type": "code",
      "execution_count": 257,
      "id": "d4e0b2aa-501b-4660-a9df-e59561d9cd7f",
      "metadata": {
        "deletable": false,
        "nbgrader": {
          "cell_type": "code",
          "checksum": "fb992a6ac5af0f214a39afdfef550c7b",
          "grade": false,
          "grade_id": "add_column",
          "locked": false,
          "schema_version": 3,
          "solution": true,
          "task": false
        },
        "tags": [],
        "id": "d4e0b2aa-501b-4660-a9df-e59561d9cd7f"
      },
      "outputs": [],
      "source": [
        "df['diabetic'] = [False if x in df_non_diabetic.index else True for x in df.index]\n",
        "#df['diabetic'] = (df[\"S0\"] >= 6) | (df[\"S1\"] >= 11)\n",
        "#df['diabetic'] = ~df.index.isin(df_non_diabetic.index)"
      ]
    },
    {
      "cell_type": "code",
      "execution_count": 258,
      "id": "fabb8f78-8cf0-423d-b86b-80f26fef8e6f",
      "metadata": {
        "deletable": false,
        "editable": false,
        "nbgrader": {
          "cell_type": "code",
          "checksum": "4852e41f5ee0bb87f2f029f4c34f2202",
          "grade": true,
          "grade_id": "add_column_test",
          "locked": true,
          "points": 0.5,
          "schema_version": 3,
          "solution": false,
          "task": false
        },
        "tags": [],
        "id": "fabb8f78-8cf0-423d-b86b-80f26fef8e6f"
      },
      "outputs": [],
      "source": [
        "# run tests to check your implementation\n",
        "assert df.shape == (4, 5), \"Check if you added the column correctly\"\n",
        "assert list(df.columns) == [\"name\", \"age\", \"S0\", \"S1\", \"diabetic\"], \"Check if you set the column name correctly\"\n",
        "assert list(df[\"diabetic\"]) == [False, True, True, False], \"Check that you determine diabetes correctly\""
      ]
    },
    {
      "cell_type": "markdown",
      "id": "152fe889-8d3d-4f15-8b9a-9712abc5bb1d",
      "metadata": {
        "id": "152fe889-8d3d-4f15-8b9a-9712abc5bb1d"
      },
      "source": [
        "#### 2. Acute Stress Reduction with Cold Face Test\n",
        "In this task, we analyze a dataset that was recorded during a study investigating the capability of the Cold Face Test (CFT) (cold mask applied to the face) to reduce acute stress. 28 participants underwent the following study protocol:\n",
        "* **Preparation Phase** (Phase 0)\n",
        "* **Study Phase** (Phase 1, 2, 3 - all the following subphases were repeated 3 times)\n",
        "    * *subphase 0*: Baseline\n",
        "    * *subphase 1*:\n",
        "        * Control Condition (14 participants): Resting Period\n",
        "        * Intervention Condition (14 participants): Cold Face Test\n",
        "    * *subphase 2*: Arithmetic Task\n",
        "    * *subphase 3*: Feedback\n",
        "* **Debriefing Phase** (Phase 4)\n",
        "\n",
        "During the **Study Phase** time series *Heart Rate* data were recorded as follows:\n",
        "* normalized to the baseline heart rate &rarr;  time-series heart rate data for the subphases 1-3\n",
        "* resampled to 1 Hz\n",
        "\n",
        "    \n",
        "In the following, we want to implement code to get an overview of the heart rates in different phases/subphases and summarize the data of all phases and participants in a long-format data frame.\n",
        "\n",
        "**Hint**: Check the test cases presented for every subtask to see how the functions' input parameters are structured."
      ]
    },
    {
      "cell_type": "code",
      "execution_count": 259,
      "id": "bb70c72e-1e11-43d2-95cd-86d11da06575",
      "metadata": {
        "tags": [],
        "id": "bb70c72e-1e11-43d2-95cd-86d11da06575"
      },
      "outputs": [],
      "source": [
        "# run cell to load the data\n",
        "data_hr = bp.example_data.get_hr_ensemble_sample()\n",
        "data_saliva = bp.example_data.get_saliva_example()\n",
        "data_condition = data_saliva.reset_index()[[\"condition\", \"subject\"]].drop_duplicates().reset_index(drop=True).set_index(\"subject\")"
      ]
    },
    {
      "cell_type": "code",
      "execution_count": 260,
      "id": "541a3677-ca22-420e-bd69-b966b50c0a94",
      "metadata": {
        "id": "541a3677-ca22-420e-bd69-b966b50c0a94",
        "colab": {
          "base_uri": "https://localhost:8080/",
          "height": 427
        },
        "outputId": "9d518c80-17d4-4e6b-e3cb-2375b14c55f5"
      },
      "outputs": [
        {
          "output_type": "display_data",
          "data": {
            "text/plain": [
              "<Figure size 600x400 with 1 Axes>"
            ],
            "image/png": "[encoded data removed]"
          },
          "metadata": {}
        }
      ],
      "source": [
        "# run cell to visualize the data\n",
        "fig, ax = plt.subplots(figsize=(6, 4))\n",
        "data_hr[\"Phase1\"].mean(axis=1).plot(ax=ax, label=\"Phase1\")\n",
        "data_hr[\"Phase2\"].mean(axis=1).plot(ax=ax, label=\"Phase2\")\n",
        "data_hr[\"Phase3\"].mean(axis=1).plot(ax=ax, label=\"Phase3\")\n",
        "ax.axvline(50, color='k')\n",
        "ax.axvline(290, color='k')\n",
        "ax.axvspan(0, 49, alpha=0.2, color='tab:blue', label=\"subphase1\")\n",
        "ax.axvspan(50, 289, alpha=0.2, color='tab:orange', label=\"subphase2\")\n",
        "ax.axvspan(290, 493, alpha=0.2, color='tab:green', label=\"subphase2\")\n",
        "ax.set_xlabel(\"time [s]\")\n",
        "ax.set_ylabel(\"heart rate normalized to baseline\")\n",
        "ax.legend()\n",
        "fig.tight_layout()"
      ]
    },
    {
      "cell_type": "markdown",
      "id": "f7bf6521-cab1-4551-ba12-7c2dda84d6b9",
      "metadata": {
        "id": "f7bf6521-cab1-4551-ba12-7c2dda84d6b9"
      },
      "source": [
        "##### 2.1 Since an error occurred in the heart rate recording for some participants, we need to drop their recordings from our data. Therefore, create a function called ``drop_cols`` which takes the parameters ``data`` and ``cols``:\n",
        "* ``data``: ``pandas.DataFrame`` containing the column-wise heart rate data from all the participants\n",
        "* ``cols``: list of participant names to be dropped\n",
        "* The function should return a ``pandas.DataFrame`` containing all the participants' data except for the ones mentioned in ``cols``"
      ]
    },
    {
      "cell_type": "code",
      "execution_count": 261,
      "id": "ad296aa4-2d5e-43f8-9d5c-79febe665f12",
      "metadata": {
        "deletable": false,
        "nbgrader": {
          "cell_type": "code",
          "checksum": "10a82372f203638f6627fc8a95b7a146",
          "grade": false,
          "grade_id": "drop_columns",
          "locked": false,
          "schema_version": 3,
          "solution": true,
          "task": false
        },
        "tags": [],
        "id": "ad296aa4-2d5e-43f8-9d5c-79febe665f12"
      },
      "outputs": [],
      "source": [
        "def drop_cols(data, cols):\n",
        "  return data.drop([x for x in data if x in cols], axis = 1)"
      ]
    },
    {
      "cell_type": "code",
      "execution_count": 262,
      "id": "27935d37-5ea6-4cea-aefb-cc1cffc3334c",
      "metadata": {
        "deletable": false,
        "editable": false,
        "nbgrader": {
          "cell_type": "code",
          "checksum": "c6c280e167272312715d83c267e3bd55",
          "grade": true,
          "grade_id": "drop_columns_test",
          "locked": true,
          "points": 1,
          "schema_version": 3,
          "solution": false,
          "task": false
        },
        "tags": [],
        "id": "27935d37-5ea6-4cea-aefb-cc1cffc3334c"
      },
      "outputs": [],
      "source": [
        "# run tests to check your implementation\n",
        "data_test = pd.DataFrame([[1, 2, 3], [4, 5, 6]], columns=[\"A\", \"B\", \"C\"])\n",
        "assert drop_cols(data_test, [\"A\"]).shape == (2, 2), \"Check that you removed the in cols specified column\"\n",
        "assert list(drop_cols(data_test, [\"A\"]).columns) == [\"B\", \"C\"], \"Check that you removed the in cols specified columns\"\n",
        "assert list(drop_cols(data_test, [\"A\", \"C\"]).columns) == [\"B\"], \"Check that you can remove also multiple columns at the same time\""
      ]
    },
    {
      "cell_type": "markdown",
      "id": "02d80dec-6860-401a-a0a8-c23237f203ab",
      "metadata": {
        "id": "02d80dec-6860-401a-a0a8-c23237f203ab"
      },
      "source": [
        "##### 2.2 Create a function ``calc_mean`` which takes the parameter ``data`` and calculates the column-wise mean:\n",
        "* ``data``: column-wise heart rate data for all participants\n",
        "* The function should return a ``pandas.DataFrame`` with the column-wise mean of ``data`` retaining its column names and with \"heart_rate\" as the index\n",
        "\n",
        "**Hint**: Check out if the [pandas.DataFrame.agg](https://pandas.pydata.org/docs/reference/api/pandas.DataFrame.agg.html) function can help you to solve this task. Give the parameter \"func\" of pandas.DataFrame.agg as type list for easier usage afterwards."
      ]
    },
    {
      "cell_type": "code",
      "execution_count": 263,
      "id": "711d5513-3acc-4894-905b-b847e0e3d6db",
      "metadata": {
        "deletable": false,
        "nbgrader": {
          "cell_type": "code",
          "checksum": "8500a5a0ba70f6e617633547caeb1eb3",
          "grade": false,
          "grade_id": "calc_mean",
          "locked": false,
          "schema_version": 3,
          "solution": true,
          "task": false
        },
        "tags": [],
        "id": "711d5513-3acc-4894-905b-b847e0e3d6db"
      },
      "outputs": [],
      "source": [
        "def calc_mean(data):\n",
        "  temp_data = data.agg([\"mean\"])\n",
        "  temp_data.index = [\"heart_rate\"]\n",
        "  return temp_data"
      ]
    },
    {
      "cell_type": "code",
      "execution_count": 264,
      "id": "985ca8b2-fedb-4e1c-ad44-1a60a2e5b9f0",
      "metadata": {
        "deletable": false,
        "editable": false,
        "nbgrader": {
          "cell_type": "code",
          "checksum": "84cff4498cc5539b864467d4f3a8e9c3",
          "grade": true,
          "grade_id": "calc_mean_test",
          "locked": true,
          "points": 1,
          "schema_version": 3,
          "solution": false,
          "task": false
        },
        "tags": [],
        "id": "985ca8b2-fedb-4e1c-ad44-1a60a2e5b9f0"
      },
      "outputs": [],
      "source": [
        "# run tests to check your implementation\n",
        "data_test = pd.DataFrame([[1, 2, 3], [4, 5, 6]], columns=[\"A\", \"B\", \"C\"])\n",
        "result = calc_mean(data_test)\n",
        "assert type(result) == pd.DataFrame, \"Check if the return value of calc_mean() is of type pd.DataFrame. You can for example replace mean with [mean] in pd.DataFrame.agg to achieve this.\"\n",
        "assert list(result.index) == [\"heart_rate\"] and list(result.columns) == [\"A\", \"B\", \"C\"], \"Check that you maintain the original structure and set the index correctly\"\n",
        "assert list(result.loc[\"heart_rate\"]) == [2.5, 3.5, 4.5], \"Check that you calculate the mean column-wise\""
      ]
    },
    {
      "cell_type": "markdown",
      "id": "b18ce165-443b-4455-b7bb-e31737031794",
      "metadata": {
        "id": "b18ce165-443b-4455-b7bb-e31737031794"
      },
      "source": [
        "##### 2.3 Create a function ``create_multi_index`` with the parameters ``participants``, ``condition``, ``phase``, and ``subphase``, which generates the multi-index for the long-format dataframe:\n",
        "* ``participants``: list of the participants included in the dataset\n",
        "* ``condition``: list of the conditions the ``participants`` belong to (Intervention/Control)\n",
        "* ``phase``: string of the name of the phase\n",
        "* ``subphase``: string of the name of the subphase\n",
        "* The function should return a ``pandas.MultiIndex``object with a multi-index tuple for every participant\n",
        "    * every tuple should contain the information about the participant's name, condition, phase, and subphase\n",
        "    * name the levels of the multi-index: participant, condition, phase, subphase\n",
        "\n",
        "**Hint**: Check out if the [pandas.MultiIndex.from_arrays](https://pandas.pydata.org/docs/reference/api/pandas.MultiIndex.from_arrays.html) function can help you with this task."
      ]
    },
    {
      "cell_type": "code",
      "execution_count": 265,
      "id": "ca981b96-a7cb-4cfb-ac5e-61aad1d28318",
      "metadata": {
        "deletable": false,
        "nbgrader": {
          "cell_type": "code",
          "checksum": "b42d326488fc432045200b7cd91f45d4",
          "grade": false,
          "grade_id": "create_multi_index",
          "locked": false,
          "schema_version": 3,
          "solution": true,
          "task": false
        },
        "tags": [],
        "id": "ca981b96-a7cb-4cfb-ac5e-61aad1d28318"
      },
      "outputs": [],
      "source": [
        "def create_multi_index(participants, condition, phase, subphase):\n",
        "  phase_array = [phase] * len(condition)\n",
        "  subphase_array = [subphase] * len(condition)\n",
        "  arrays = [participants, condition, phase_array, subphase_array]\n",
        "  return pd.MultiIndex.from_arrays(arrays, names = (\"participant\", \"condition\", \"phase\", \"subphase\"))"
      ]
    },
    {
      "cell_type": "code",
      "execution_count": 266,
      "id": "40349783-52a3-4285-9054-cb6739893650",
      "metadata": {
        "deletable": false,
        "editable": false,
        "nbgrader": {
          "cell_type": "code",
          "checksum": "09799e3b69c4ee884036d9c14967a0ea",
          "grade": true,
          "grade_id": "create_multi_index_test",
          "locked": true,
          "points": 2,
          "schema_version": 3,
          "solution": false,
          "task": false
        },
        "tags": [],
        "id": "40349783-52a3-4285-9054-cb6739893650"
      },
      "outputs": [],
      "source": [
        "# run tests to check your implementation\n",
        "result = create_multi_index([\"Vp01\", \"Vp02\", \"Vp03\"], [\"Intervention\", \"Control\", \"Control\"], \"Phase1\", \"Subphase1\")\n",
        "assert type(result) == pd.MultiIndex, \"Ensure that you return an instance of type pandas.MultiIndex\"\n",
        "assert result.names == [\"participant\", \"condition\", \"phase\", \"subphase\"], \"Ensure that you set the level names correctly\"\n",
        "assert result[0] == (\"Vp01\", \"Intervention\", \"Phase1\", \"Subphase1\"), \"Ensure that all information are contained and in the right order\"\n",
        "assert result[1] == (\"Vp02\", \"Control\", \"Phase1\", \"Subphase1\"), \"Ensure that all information are contained and in the right order\""
      ]
    },
    {
      "cell_type": "markdown",
      "id": "74bd1888-b464-477f-9dfe-eaaff61468d2",
      "metadata": {
        "id": "74bd1888-b464-477f-9dfe-eaaff61468d2"
      },
      "source": [
        "##### 2.4 In this task, we put all the created functions together and generate a long-format data frame containing the mean heart rate of every participant in every phase/subphase. To do so:\n",
        "* Create an empty ``pandas.DataFrame`` called ``data_all``, which in the end should contain the data from all phases and subphases\n",
        "* Loop over all the phases (1, 2, 3)\n",
        "    * Create a ``pandas.DataFrame`` called ``data`` which contains only the heart rate data of one phase of ``data_hr`` (Check out how ``data_hr`` is built)\n",
        "    * Remove the participants specified in ``drop_participants`` from ``data`` using ``drop_cols()``\n",
        "    * Loop over all the subphases (1, 2, 3)\n",
        "        * Slice ``data`` into the current subphase using the respective start and stop values specified in ``subphases`` and store it in the variable ``data_sub``\n",
        "        * calculate the mean heart rate of ``data_sub`` for every participant individually using ``calc_mean()`` and store it in ``data_mean``\n",
        "        * Generate the multi-index ``index`` using ``create_multi_index()``. Access the conditions of all participants from ``data_condition`` (defined in the beginning of the task).\n",
        "        * Set the column index of ``data_mean`` to ``index``\n",
        "        * [Transpose](https://pandas.pydata.org/docs/reference/api/pandas.DataFrame.transpose.html) ``data_mean`` and concatenate ``data_mean`` to ``data_all``\n",
        "* After calculating the mean for every phase and subphase, use [pandas.DataFrame.sort_index](https://pandas.pydata.org/docs/reference/api/pandas.DataFrame.sort_index.html) to sort ``data_all``\n",
        "* Display ``data_all``\n",
        "\n",
        "**Hint**: For iterating through the phases and subphases you can use the dictionary keys."
      ]
    },
    {
      "cell_type": "code",
      "execution_count": 267,
      "id": "0f0c7727-16df-4233-bab9-0833398caea7",
      "metadata": {
        "deletable": false,
        "nbgrader": {
          "cell_type": "code",
          "checksum": "5116cd4b5f4528a077083d3d2d1a2332",
          "grade": false,
          "grade_id": "wide_to_long",
          "locked": false,
          "schema_version": 3,
          "solution": true,
          "task": false
        },
        "tags": [],
        "id": "0f0c7727-16df-4233-bab9-0833398caea7",
        "colab": {
          "base_uri": "https://localhost:8080/",
          "height": 475
        },
        "outputId": "959cbcdd-bbfd-4706-bf01-77dbc3809181"
      },
      "outputs": [
        {
          "output_type": "execute_result",
          "data": {
            "text/plain": [
              "                                           heart_rate\n",
              "participant condition    phase  subphase             \n",
              "Vp01        Intervention Phase1 Subphase1   -1.834143\n",
              "                                Subphase2   -0.553887\n",
              "                                Subphase3   -0.838475\n",
              "                         Phase2 Subphase1   -1.695172\n",
              "                                Subphase2   -2.130323\n",
              "...                                               ...\n",
              "Vp33        Control      Phase2 Subphase2   -0.390030\n",
              "                                Subphase3    3.559424\n",
              "                         Phase3 Subphase1   -0.549984\n",
              "                                Subphase2    7.302399\n",
              "                                Subphase3    1.810313\n",
              "\n",
              "[234 rows x 1 columns]"
            ],
            "text/html": [
              "\n",
              "  <div id=\"df-dbf3465e-f691-484f-ba8d-f8ffeb71c325\" class=\"colab-df-container\">\n",
              "    <div>\n",
              "<style scoped>\n",
              "    .dataframe tbody tr th:only-of-type {\n",
              "        vertical-align: middle;\n",
              "    }\n",
              "\n",
              "    .dataframe tbody tr th {\n",
              "        vertical-align: top;\n",
              "    }\n",
              "\n",
              "    .dataframe thead th {\n",
              "        text-align: right;\n",
              "    }\n",
              "</style>\n",
              "<table border=\"1\" class=\"dataframe\">\n",
              "  <thead>\n",
              "    <tr style=\"text-align: right;\">\n",
              "      <th></th>\n",
              "      <th></th>\n",
              "      <th></th>\n",
              "      <th></th>\n",
              "      <th>heart_rate</th>\n",
              "    </tr>\n",
              "    <tr>\n",
              "      <th>participant</th>\n",
              "      <th>condition</th>\n",
              "      <th>phase</th>\n",
              "      <th>subphase</th>\n",
              "      <th></th>\n",
              "    </tr>\n",
              "  </thead>\n",
              "  <tbody>\n",
              "    <tr>\n",
              "      <th rowspan=\"5\" valign=\"top\">Vp01</th>\n",
              "      <th rowspan=\"5\" valign=\"top\">Intervention</th>\n",
              "      <th rowspan=\"3\" valign=\"top\">Phase1</th>\n",
              "      <th>Subphase1</th>\n",
              "      <td>-1.834143</td>\n",
              "    </tr>\n",
              "    <tr>\n",
              "      <th>Subphase2</th>\n",
              "      <td>-0.553887</td>\n",
              "    </tr>\n",
              "    <tr>\n",
              "      <th>Subphase3</th>\n",
              "      <td>-0.838475</td>\n",
              "    </tr>\n",
              "    <tr>\n",
              "      <th rowspan=\"2\" valign=\"top\">Phase2</th>\n",
              "      <th>Subphase1</th>\n",
              "      <td>-1.695172</td>\n",
              "    </tr>\n",
              "    <tr>\n",
              "      <th>Subphase2</th>\n",
              "      <td>-2.130323</td>\n",
              "    </tr>\n",
              "    <tr>\n",
              "      <th>...</th>\n",
              "      <th>...</th>\n",
              "      <th>...</th>\n",
              "      <th>...</th>\n",
              "      <td>...</td>\n",
              "    </tr>\n",
              "    <tr>\n",
              "      <th rowspan=\"5\" valign=\"top\">Vp33</th>\n",
              "      <th rowspan=\"5\" valign=\"top\">Control</th>\n",
              "      <th rowspan=\"2\" valign=\"top\">Phase2</th>\n",
              "      <th>Subphase2</th>\n",
              "      <td>-0.390030</td>\n",
              "    </tr>\n",
              "    <tr>\n",
              "      <th>Subphase3</th>\n",
              "      <td>3.559424</td>\n",
              "    </tr>\n",
              "    <tr>\n",
              "      <th rowspan=\"3\" valign=\"top\">Phase3</th>\n",
              "      <th>Subphase1</th>\n",
              "      <td>-0.549984</td>\n",
              "    </tr>\n",
              "    <tr>\n",
              "      <th>Subphase2</th>\n",
              "      <td>7.302399</td>\n",
              "    </tr>\n",
              "    <tr>\n",
              "      <th>Subphase3</th>\n",
              "      <td>1.810313</td>\n",
              "    </tr>\n",
              "  </tbody>\n",
              "</table>\n",
              "<p>234 rows × 1 columns</p>\n",
              "</div>\n",
              "    <div class=\"colab-df-buttons\">\n",
              "\n",
              "  <div class=\"colab-df-container\">\n",
              "    <button class=\"colab-df-convert\" onclick=\"convertToInteractive('df-dbf3465e-f691-484f-ba8d-f8ffeb71c325')\"\n",
              "            title=\"Convert this dataframe to an interactive table.\"\n",
              "            style=\"display:none;\">\n",
              "\n",
              "  <svg xmlns=\"http://www.w3.org/2000/svg\" height=\"24px\" viewBox=\"0 -960 960 960\">\n",
              "    <path d=\"M120-120v-720h720v720H120Zm60-500h600v-160H180v160Zm220 220h160v-160H400v160Zm0 220h160v-160H400v160ZM180-400h160v-160H180v160Zm440 0h160v-160H620v160ZM180-180h160v-160H180v160Zm440 0h160v-160H620v160Z\"/>\n",
              "  </svg>\n",
              "    </button>\n",
              "\n",
              "  <style>\n",
              "    .colab-df-container {\n",
              "      display:flex;\n",
              "      gap: 12px;\n",
              "    }\n",
              "\n",
              "    .colab-df-convert {\n",
              "      background-color: #E8F0FE;\n",
              "      border: none;\n",
              "      border-radius: 50%;\n",
              "      cursor: pointer;\n",
              "      display: none;\n",
              "      fill: #1967D2;\n",
              "      height: 32px;\n",
              "      padding: 0 0 0 0;\n",
              "      width: 32px;\n",
              "    }\n",
              "\n",
              "    .colab-df-convert:hover {\n",
              "      background-color: #E2EBFA;\n",
              "      box-shadow: 0px 1px 2px rgba(60, 64, 67, 0.3), 0px 1px 3px 1px rgba(60, 64, 67, 0.15);\n",
              "      fill: #174EA6;\n",
              "    }\n",
              "\n",
              "    .colab-df-buttons div {\n",
              "      margin-bottom: 4px;\n",
              "    }\n",
              "\n",
              "    [theme=dark] .colab-df-convert {\n",
              "      background-color: #3B4455;\n",
              "      fill: #D2E3FC;\n",
              "    }\n",
              "\n",
              "    [theme=dark] .colab-df-convert:hover {\n",
              "      background-color: #434B5C;\n",
              "      box-shadow: 0px 1px 3px 1px rgba(0, 0, 0, 0.15);\n",
              "      filter: drop-shadow(0px 1px 2px rgba(0, 0, 0, 0.3));\n",
              "      fill: #FFFFFF;\n",
              "    }\n",
              "  </style>\n",
              "\n",
              "    <script>\n",
              "      const buttonEl =\n",
              "        document.querySelector('#df-dbf3465e-f691-484f-ba8d-f8ffeb71c325 button.colab-df-convert');\n",
              "      buttonEl.style.display =\n",
              "        google.colab.kernel.accessAllowed ? 'block' : 'none';\n",
              "\n",
              "      async function convertToInteractive(key) {\n",
              "        const element = document.querySelector('#df-dbf3465e-f691-484f-ba8d-f8ffeb71c325');\n",
              "        const dataTable =\n",
              "          await google.colab.kernel.invokeFunction('convertToInteractive',\n",
              "                                                    [key], {});\n",
              "        if (!dataTable) return;\n",
              "\n",
              "        const docLinkHtml = 'Like what you see? Visit the ' +\n",
              "          '<a target=\"_blank\" href=https://colab.research.google.com/notebooks/data_table.ipynb>data table notebook</a>'\n",
              "          + ' to learn more about interactive tables.';\n",
              "        element.innerHTML = '';\n",
              "        dataTable['output_type'] = 'display_data';\n",
              "        await google.colab.output.renderOutput(dataTable, element);\n",
              "        const docLink = document.createElement('div');\n",
              "        docLink.innerHTML = docLinkHtml;\n",
              "        element.appendChild(docLink);\n",
              "      }\n",
              "    </script>\n",
              "  </div>\n",
              "\n",
              "\n",
              "<div id=\"df-aeb01484-08fd-4a64-89c4-3bae170782eb\">\n",
              "  <button class=\"colab-df-quickchart\" onclick=\"quickchart('df-aeb01484-08fd-4a64-89c4-3bae170782eb')\"\n",
              "            title=\"Suggest charts\"\n",
              "            style=\"display:none;\">\n",
              "\n",
              "<svg xmlns=\"http://www.w3.org/2000/svg\" height=\"24px\"viewBox=\"0 0 24 24\"\n",
              "     width=\"24px\">\n",
              "    <g>\n",
              "        <path d=\"M19 3H5c-1.1 0-2 .9-2 2v14c0 1.1.9 2 2 2h14c1.1 0 2-.9 2-2V5c0-1.1-.9-2-2-2zM9 17H7v-7h2v7zm4 0h-2V7h2v10zm4 0h-2v-4h2v4z\"/>\n",
              "    </g>\n",
              "</svg>\n",
              "  </button>\n",
              "\n",
              "<style>\n",
              "  .colab-df-quickchart {\n",
              "      --bg-color: #E8F0FE;\n",
              "      --fill-color: #1967D2;\n",
              "      --hover-bg-color: #E2EBFA;\n",
              "      --hover-fill-color: #174EA6;\n",
              "      --disabled-fill-color: #AAA;\n",
              "      --disabled-bg-color: #DDD;\n",
              "  }\n",
              "\n",
              "  [theme=dark] .colab-df-quickchart {\n",
              "      --bg-color: #3B4455;\n",
              "      --fill-color: #D2E3FC;\n",
              "      --hover-bg-color: #434B5C;\n",
              "      --hover-fill-color: #FFFFFF;\n",
              "      --disabled-bg-color: #3B4455;\n",
              "      --disabled-fill-color: #666;\n",
              "  }\n",
              "\n",
              "  .colab-df-quickchart {\n",
              "    background-color: var(--bg-color);\n",
              "    border: none;\n",
              "    border-radius: 50%;\n",
              "    cursor: pointer;\n",
              "    display: none;\n",
              "    fill: var(--fill-color);\n",
              "    height: 32px;\n",
              "    padding: 0;\n",
              "    width: 32px;\n",
              "  }\n",
              "\n",
              "  .colab-df-quickchart:hover {\n",
              "    background-color: var(--hover-bg-color);\n",
              "    box-shadow: 0 1px 2px rgba(60, 64, 67, 0.3), 0 1px 3px 1px rgba(60, 64, 67, 0.15);\n",
              "    fill: var(--button-hover-fill-color);\n",
              "  }\n",
              "\n",
              "  .colab-df-quickchart-complete:disabled,\n",
              "  .colab-df-quickchart-complete:disabled:hover {\n",
              "    background-color: var(--disabled-bg-color);\n",
              "    fill: var(--disabled-fill-color);\n",
              "    box-shadow: none;\n",
              "  }\n",
              "\n",
              "  .colab-df-spinner {\n",
              "    border: 2px solid var(--fill-color);\n",
              "    border-color: transparent;\n",
              "    border-bottom-color: var(--fill-color);\n",
              "    animation:\n",
              "      spin 1s steps(1) infinite;\n",
              "  }\n",
              "\n",
              "  @keyframes spin {\n",
              "    0% {\n",
              "      border-color: transparent;\n",
              "      border-bottom-color: var(--fill-color);\n",
              "      border-left-color: var(--fill-color);\n",
              "    }\n",
              "    20% {\n",
              "      border-color: transparent;\n",
              "      border-left-color: var(--fill-color);\n",
              "      border-top-color: var(--fill-color);\n",
              "    }\n",
              "    30% {\n",
              "      border-color: transparent;\n",
              "      border-left-color: var(--fill-color);\n",
              "      border-top-color: var(--fill-color);\n",
              "      border-right-color: var(--fill-color);\n",
              "    }\n",
              "    40% {\n",
              "      border-color: transparent;\n",
              "      border-right-color: var(--fill-color);\n",
              "      border-top-color: var(--fill-color);\n",
              "    }\n",
              "    60% {\n",
              "      border-color: transparent;\n",
              "      border-right-color: var(--fill-color);\n",
              "    }\n",
              "    80% {\n",
              "      border-color: transparent;\n",
              "      border-right-color: var(--fill-color);\n",
              "      border-bottom-color: var(--fill-color);\n",
              "    }\n",
              "    90% {\n",
              "      border-color: transparent;\n",
              "      border-bottom-color: var(--fill-color);\n",
              "    }\n",
              "  }\n",
              "</style>\n",
              "\n",
              "  <script>\n",
              "    async function quickchart(key) {\n",
              "      const quickchartButtonEl =\n",
              "        document.querySelector('#' + key + ' button');\n",
              "      quickchartButtonEl.disabled = true;  // To prevent multiple clicks.\n",
              "      quickchartButtonEl.classList.add('colab-df-spinner');\n",
              "      try {\n",
              "        const charts = await google.colab.kernel.invokeFunction(\n",
              "            'suggestCharts', [key], {});\n",
              "      } catch (error) {\n",
              "        console.error('Error during call to suggestCharts:', error);\n",
              "      }\n",
              "      quickchartButtonEl.classList.remove('colab-df-spinner');\n",
              "      quickchartButtonEl.classList.add('colab-df-quickchart-complete');\n",
              "    }\n",
              "    (() => {\n",
              "      let quickchartButtonEl =\n",
              "        document.querySelector('#df-aeb01484-08fd-4a64-89c4-3bae170782eb button');\n",
              "      quickchartButtonEl.style.display =\n",
              "        google.colab.kernel.accessAllowed ? 'block' : 'none';\n",
              "    })();\n",
              "  </script>\n",
              "</div>\n",
              "    </div>\n",
              "  </div>\n"
            ],
            "application/vnd.google.colaboratory.intrinsic+json": {
              "type": "dataframe",
              "variable_name": "data_all",
              "summary": "{\n  \"name\": \"data_all\",\n  \"rows\": 234,\n  \"fields\": [\n    {\n      \"column\": \"heart_rate\",\n      \"properties\": {\n        \"dtype\": \"number\",\n        \"std\": 7.725500766355696,\n        \"min\": -15.185502524517187,\n        \"max\": 40.76809089967759,\n        \"num_unique_values\": 234,\n        \"samples\": [\n          -2.1177064384239315,\n          -4.876167912828585,\n          6.416672958210465\n        ],\n        \"semantic_type\": \"\",\n        \"description\": \"\"\n      }\n    }\n  ]\n}"
            }
          },
          "metadata": {},
          "execution_count": 267
        }
      ],
      "source": [
        "subphases = {\n",
        "    \"Subphase1\": {\"start\": 0, \"stop\": 49},\n",
        "    \"Subphase2\": {\"start\": 50, \"stop\": 289},\n",
        "    \"Subphase3\": {\"start\": 290, \"stop\": -1}\n",
        "}\n",
        "drop_participants = [\"Vp07\", \"Vp22\"]\n",
        "\n",
        "data_all = pd.DataFrame()\n",
        "\n",
        "for phase in [\"Phase1\", \"Phase2\", \"Phase3\"]:\n",
        "  data = pd.DataFrame(data_hr[phase])\n",
        "  data = drop_cols(data, drop_participants)\n",
        "  for subphase, index_range in subphases.items():\n",
        "    start = index_range[\"start\"]\n",
        "    stop = index_range[\"stop\"]\n",
        "    data_sub = data.iloc[start:stop, :]\n",
        "    data_mean = calc_mean(data_sub)\n",
        "\n",
        "    index = create_multi_index(data_sub.columns, data_condition[\"condition\"], phase, subphase)\n",
        "\n",
        "    data_mean.columns = index\n",
        "    data_mean = data_mean.transpose()\n",
        "    data_all = pd.concat([data_all, data_mean])\n",
        "\n",
        "data_all.sort_index(inplace = True)\n",
        "data_all\n"
      ]
    },
    {
      "cell_type": "code",
      "execution_count": 268,
      "id": "c9382c8a-f1ee-4f29-88a6-60a4fa5e92ca",
      "metadata": {
        "deletable": false,
        "editable": false,
        "nbgrader": {
          "cell_type": "code",
          "checksum": "26634e62d088b1739da4d223dbc288d8",
          "grade": true,
          "grade_id": "wide_to_long_test",
          "locked": true,
          "points": 3,
          "schema_version": 3,
          "solution": false,
          "task": false
        },
        "tags": [],
        "id": "c9382c8a-f1ee-4f29-88a6-60a4fa5e92ca"
      },
      "outputs": [],
      "source": [
        "# run tests to check your implementation\n",
        "assert data_all.index.names == [\"participant\", \"condition\", \"phase\", \"subphase\"] and list(data_all.columns) == [\"heart_rate\"], \"Ensure that you used create_multi_index()\"\n",
        "assert data_all.index[3] == (\"Vp01\", \"Intervention\", \"Phase2\", \"Subphase1\"), \"Ensure that you sort the dataframe\"\n",
        "assert len(set(list(data_all.index.get_level_values(0)))) == 26, \"Ensure that you remove the specified 2 participants\"\n",
        "assert set(list(data_all.index.get_level_values(2))) == {\"Phase1\", \"Phase2\", \"Phase3\"}, \"Ensure that you concatenate the data for all phases\"\n",
        "assert set(list(data_all.index.get_level_values(3))) == {\"Subphase1\", \"Subphase2\", \"Subphase3\"}, \"Ensure that you concatenate the data for all subphases\"\n",
        "assert data_all.shape == (234, 1), \"Ensure that store the data for all selected participants, phases, subphases\""
      ]
    },
    {
      "cell_type": "markdown",
      "id": "1656cb7e-d5e1-4368-9241-e062153cdfd8",
      "metadata": {
        "id": "1656cb7e-d5e1-4368-9241-e062153cdfd8"
      },
      "source": [
        "##### 2.5 Create a function called ``calc_mean_grouped`` with the parameters ``data`` and ``levels``, which calculates the mean of ``data`` for the different groups specified by ``levels``:\n",
        "* ``data``: long-format data frame containing the heart rates for every participant in every phase and subphase\n",
        "* ``levels``: list of index level names indicating how to group the data\n",
        "* The function should return a ``pandas.DataFrame`` with all the grouped means\n",
        "\n",
        "Example: In the case of ``data`` being ``data_all`` and ``levels`` being ``[\"phase\", \"subphase\"]``, ``calc_mean_grouped()`` should return the mean over all participants for every phase - subphase combination, i. e. for Phase1 - Subphase1, Phase1 - Subphase 2, ... resulting in 9 different values.\n",
        "\n",
        "**Hint**: Check out if the [pandas.DataFrame.groupby](https://pandas.pydata.org/docs/reference/api/pandas.DataFrame.groupby.html) function can help you with this task."
      ]
    },
    {
      "cell_type": "code",
      "execution_count": 269,
      "id": "55879376-2afd-4eb8-ab4c-d9711b196c94",
      "metadata": {
        "deletable": false,
        "nbgrader": {
          "cell_type": "code",
          "checksum": "0a09c561bd0ea7756c061d4945d404e8",
          "grade": false,
          "grade_id": "mean_grouped",
          "locked": false,
          "schema_version": 3,
          "solution": true,
          "task": false
        },
        "tags": [],
        "id": "55879376-2afd-4eb8-ab4c-d9711b196c94"
      },
      "outputs": [],
      "source": [
        "def calc_mean_grouped(data, levels):\n",
        "  group = data.groupby(level = levels)\n",
        "  return group.mean()\n"
      ]
    },
    {
      "cell_type": "code",
      "execution_count": 270,
      "id": "fdb71741-d20f-493d-8b97-0f14956bdb89",
      "metadata": {
        "deletable": false,
        "editable": false,
        "nbgrader": {
          "cell_type": "code",
          "checksum": "96fb664813aa4540debe0060278175a0",
          "grade": true,
          "grade_id": "mean_grouped_test",
          "locked": true,
          "points": 1,
          "schema_version": 3,
          "solution": false,
          "task": false
        },
        "tags": [],
        "id": "fdb71741-d20f-493d-8b97-0f14956bdb89"
      },
      "outputs": [],
      "source": [
        "# run tests to check your implementation\n",
        "data_test = pd.DataFrame(np.array([1, 2, 3, 4, 5, 6, 7, 8]).T)\n",
        "data_test.index = pd.MultiIndex.from_product([[\"V1\", \"V2\"], [\"p1\", \"p2\"], [\"sp1\", \"sp2\"]], names=[\"V\", \"P\", \"SP\"])\n",
        "result = calc_mean_grouped(data_test, [\"P\"])\n",
        "assert list(result.index) == [\"p1\", \"p2\"], \"Ensure that your grouping works correctly\"\n",
        "assert list(result[0]) == [3.5, 5.5], \"Ensure that you take the mean correctly\"\n",
        "result = calc_mean_grouped(data_test, [\"P\", \"SP\"])\n",
        "assert list(result.index) == [(\"p1\", \"sp1\"), (\"p1\", \"sp2\"), (\"p2\", \"sp1\"), (\"p2\", \"sp2\")], \"Ensure that your grouping works correctly\"\n",
        "assert list(result[0]) == [3.0, 4.0, 5.0, 6.0], \"Ensure that you take the mean correctly\""
      ]
    },
    {
      "cell_type": "code",
      "execution_count": 271,
      "id": "aacf528b-490f-4e71-a19a-98743239d83a",
      "metadata": {
        "id": "aacf528b-490f-4e71-a19a-98743239d83a",
        "colab": {
          "base_uri": "https://localhost:8080/",
          "height": 327
        },
        "outputId": "04a6d2fb-a0ce-411b-b70d-32ccd9c99331"
      },
      "outputs": [
        {
          "output_type": "display_data",
          "data": {
            "text/plain": [
              "<Figure size 800x300 with 2 Axes>"
            ],
            "image/png": "[encoded data removed]"
          },
          "metadata": {}
        }
      ],
      "source": [
        "# run cell to visualize the results\n",
        "fig, axs = plt.subplots(ncols=2, figsize=(8, 3), sharey=True)\n",
        "labels = ['-'.join(map(str,x)) for x in product([\"P1\", \"P2\", \"P3\"], [\"SP1\", \"SP2\", \"SP3\"])]\n",
        "data_mean = calc_mean_grouped(data_all, [\"phase\", \"subphase\"])\n",
        "axs[0].plot(data_mean.to_numpy(), label=\"both conditions\", marker='o')\n",
        "axs[0].legend()\n",
        "axs[0].set_ylabel(\"normalized mean heart rate\")\n",
        "axs[0].set_xticks(range(9))\n",
        "axs[0].set_xticklabels(labels, rotation=45)\n",
        "\n",
        "data_mean = calc_mean_grouped(data_all, [\"condition\", \"phase\", \"subphase\"])\n",
        "axs[1].plot(data_mean.xs(\"Intervention\", level=\"condition\").to_numpy(), label=\"intervention\", marker='o')\n",
        "axs[1].plot(data_mean.xs(\"Control\", level=\"condition\").to_numpy(), label=\"control\", marker='o')\n",
        "axs[1].legend()\n",
        "axs[1].set_xticks(range(9))\n",
        "axs[1].set_xticklabels(labels, rotation=45)\n",
        "fig.tight_layout()"
      ]
    },
    {
      "cell_type": "code",
      "execution_count": 271,
      "id": "797330b5-3223-46f4-b224-5a1fc3ec92e8",
      "metadata": {
        "id": "797330b5-3223-46f4-b224-5a1fc3ec92e8"
      },
      "outputs": [],
      "source": []
    }
  ],
  "metadata": {
    "kernelspec": {
      "display_name": "ads_exercise",
      "language": "python",
      "name": "ads_exercise"
    },
    "language_info": {
      "codemirror_mode": {
        "name": "ipython",
        "version": 3
      },
      "file_extension": ".py",
      "mimetype": "text/x-python",
      "name": "python",
      "nbconvert_exporter": "python",
      "pygments_lexer": "ipython3",
      "version": "3.9.6"
    },
    "colab": {
      "provenance": [],
      "include_colab_link": true
    }
  },
  "nbformat": 4,
  "nbformat_minor": 5
}